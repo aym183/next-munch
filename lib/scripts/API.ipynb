{
 "cells": [
  {
   "cell_type": "code",
   "execution_count": 58,
   "metadata": {},
   "outputs": [
    {
     "name": "stdout",
     "output_type": "stream",
     "text": [
      "0\n",
      "1\n",
      "2\n",
      "3\n"
     ]
    }
   ],
   "source": [
    "import requests\n",
    "import urllib\n",
    "import json\n",
    "import csv\n",
    "# f = open('Desktop/NextMunch/next-munch/json_files/cuisines.json')\n",
    "# data = json.load(f)\n",
    "# print(len(data))\n",
    "url2 = \"https://worldwide-restaurants.p.rapidapi.com/search\"\n",
    "\n",
    "dietary_reqs = ['Vegetarian Friendly', 'Vegan Options', 'Gluten Free Options', 'Halal', 'Kosher']\n",
    "#2nd page\n",
    "new_url = \"https://api.tripadvisor.com/api/internal/1.14/location/186338/restaurants?base_geocodes_on=citymaps&currency=GBP&is_restaurant_filters_v2=true&lang=en_US&limit=50&offset=50&restaurant_tagcategory_standalone=186338&supports_relevance=true\"\n",
    "\n",
    "headers = {\n",
    "\t\"content-type\": \"application/x-www-form-urlencoded\",\n",
    "\t\"X-RapidAPI-Key\": \"3b11ee2336msh5791c275fc5dbc6p11fa37jsn3cafb1ed4e82\",\n",
    "\t\"X-RapidAPI-Host\": \"worldwide-restaurants.p.rapidapi.com\"\n",
    "}\n",
    "cuisine_list = ['restaurants']\n",
    "address_list= ['address']\n",
    "category_list = ['category']\n",
    "cuisine_list = ['cuisine']\n",
    "dietary_list = ['dietary requirements']\n",
    "index2 = 0\n",
    "\n",
    "def get_API_values(url, header, index):\n",
    "    print(index)\n",
    "    if index == 3:\n",
    "        f = open('APIvals.csv', 'w')\n",
    "        for i in range(len(dietary_list)):\n",
    "                # string = '{'\n",
    "                # string = f'{cuisine_list[i]}, {address_list[i]}, {category_list[i]}, {dietary_list[i]}\\n'\n",
    "                string = f'{dietary_list[i]}\\n'\n",
    "                # string += '},\\n'\n",
    "                f.write(string)\n",
    "                # f.write('\\n')\n",
    "        \n",
    "       \n",
    "        f.close()\n",
    "        # with open('APIvals.csv', 'a') as file:\n",
    "        #     writer = csv.writer(file)\n",
    "    \n",
    "        #     # for i in range(len(cuisine_list)):\n",
    "        #     #     string = '{'\n",
    "        #     #     string += f'\"restaurant\": \"{cuisine_list[i]}\", \"address\": \"{address_list[i]}\"'\n",
    "        #     #     string += '},'\n",
    "        #         # print(string)\n",
    "        #     writer.writerow(cuisine_list[0])\n",
    "        #     writer.writerow('\\n')\n",
    "\n",
    "    else:\n",
    "\n",
    "        payload = f\"offset={index}&language=en_UK&limit=20500&location_id=186338&currency=GBP\"\n",
    "        response = requests.request(\"POST\", url, data=payload, headers=header)\n",
    "        \n",
    "        data = json.loads(response.text)['results']['data']\n",
    "        for i in range(len(data)):\n",
    "            # index = str(i)\n",
    "            # print(data[index]['cuisine'])\n",
    "            restaurant = data[i]['name']\n",
    "            address = data[i]['address']\n",
    "            category = data[i]['category']['name']\n",
    "            cuisine = data[i]['dietary_restrictions']\n",
    "            if restaurant not in cuisine_list:\n",
    "            \n",
    "                # address_list.append(address)\n",
    "                # cuisine_list.append(restaurant)\n",
    "                # category_list.append(category)\n",
    "                for i in cuisine:\n",
    "                \n",
    "                    dietary_list.append(i['name'])\n",
    "                    # print(i['name'])\n",
    "                \n",
    "\n",
    "\n",
    "        get_API_values(url, header, index+1)\n",
    "\n",
    "\n",
    "get_API_values(url2, headers, index2)\n",
    "\n",
    "#     for cuisine in cuisines:\n",
    "\n",
    "#             cuisine_list.append(cuisine['name'])\n",
    "\n",
    "        # string=''\n",
    "    \n",
    "    # print('{cuisine: {csn}},').format(csn = cuisine_list[i])\n"
   ]
  }
 ],
 "metadata": {
  "kernelspec": {
   "display_name": "Python 3.10.6 64-bit",
   "language": "python",
   "name": "python3"
  },
  "language_info": {
   "name": "python",
   "version": "3.10.6"
  },
  "orig_nbformat": 4,
  "vscode": {
   "interpreter": {
    "hash": "b0fa6594d8f4cbf19f97940f81e996739fb7646882a419484c72d19e05852a7e"
   }
  }
 },
 "nbformat": 4,
 "nbformat_minor": 2
}
